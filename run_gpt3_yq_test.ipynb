{
 "cells": [
  {
   "cell_type": "markdown",
   "metadata": {},
   "source": [
    "**Practice**\n",
    "the functions of run_gpt3.py"
   ]
  },
  {
   "cell_type": "code",
   "execution_count": null,
   "metadata": {},
   "outputs": [],
   "source": [
    "import os\n",
    "import json\n",
    "import argparse"
   ]
  },
  {
   "cell_type": "code",
   "execution_count": null,
   "metadata": {},
   "outputs": [],
   "source": [
    "def load_data(args):\n",
    "    \"\"\"\n",
    "    Load and process data from different sources and formats.\n",
    "    \n",
    "    Args:\n",
    "        args: Command line arguments containing data paths and processing options\n",
    "    \n",
    "    Returns:\n",
    "        problems: Dictionary of all problems (test + train)\n",
    "        test_pids: List of test problem IDs\n",
    "        cand_pids: List of candidate problem IDs for retrieval\n",
    "    \n",
    "    The function handles different data formats:\n",
    "    1. MedQA format \n",
    "    2. MATH problems\n",
    "    3. Various NLP tasks (squad, tweet_eval, etc.)\n",
    "    4. Generic JSON format\n",
    "    \"\"\"\n",
    "    if 'medqa' in args.data_root_test:\n",
    "        # Load MedQA format data\n",
    "        problems_test = [json.loads(line) for line in open(args.data_root_test, 'r')]\n",
    "        problems_train = [json.loads(line) for line in open(args.data_root_train, 'r')]\n",
    "        problems = problems_test + problems_train\n",
    "        test_pids = list(i for i in range(len(problems_test)))\n",
    "        train_pids = list(i for i in range(len(problems_test), len(problems_test) + len(problems_train)))\n",
    "        \n",
    "        # Add validation data if provided\n",
    "        if args.data_root_vali is not None:\n",
    "            problems_vali = [json.loads(line) for line in open(args.data_root_vali, 'r')]\n",
    "            problems += problems_vali\n",
    "            \n",
    "    else:\n",
    "        # Load generic JSON format\n",
    "        problems_test = json.load(open(args.data_root_test))\n",
    "        problems_train = json.load(open(args.data_root_train))\n",
    "        problems = {**problems_test, **problems_train}\n",
    "        test_pids = list(problems_test.keys())\n",
    "        train_pids = list(problems_train.keys())\n",
    "        \n",
    "    # Sample test problems if specified\n",
    "    if args.test_number < len(test_pids) and args.test_number > 0:\n",
    "        test_pids = random.sample(test_pids, args.test_number)\n",
    "        \n",
    "    # Load test IDs from checkpoint if provided\n",
    "    if args.test_pids_ckpt:\n",
    "        test_pids = torch.load(args.test_pids_ckpt)\n",
    "    print(f\"number of test problems: {len(test_pids)}\\n\")\n",
    "\n",
    "    # Process candidate examples\n",
    "    print(f\"original cand set number {len(train_pids)}\")\n",
    "    if args.cand_ckpt:\n",
    "        # Load candidate IDs from checkpoint\n",
    "        cand_pids = torch.load(args.cand_ckpt)\n",
    "        if 'MATH' in args.data_root_test:\n",
    "            cand_pids = [i + len(problems_test) for i in cand_pids]\n",
    "    else:\n",
    "        # Sample candidate examples\n",
    "        if args.cand_number < len(train_pids):\n",
    "            cand_pids = random.sample(train_pids, args.cand_number)\n",
    "        else:\n",
    "            cand_pids = train_pids\n",
    "            \n",
    "    # Remove test examples from candidates\n",
    "    cand_pids = [i for i in cand_pids if i not in test_pids]\n",
    "\n",
    "    return problems, test_pids, cand_pids"
   ]
  },
  {
   "cell_type": "code",
   "execution_count": null,
   "metadata": {},
   "outputs": [],
   "source": []
  },
  {
   "cell_type": "code",
   "execution_count": null,
   "metadata": {},
   "outputs": [],
   "source": []
  },
  {
   "cell_type": "code",
   "execution_count": null,
   "metadata": {},
   "outputs": [],
   "source": []
  },
  {
   "cell_type": "code",
   "execution_count": null,
   "metadata": {},
   "outputs": [],
   "source": []
  },
  {
   "cell_type": "code",
   "execution_count": null,
   "metadata": {},
   "outputs": [],
   "source": []
  }
 ],
 "metadata": {
  "language_info": {
   "name": "python"
  }
 },
 "nbformat": 4,
 "nbformat_minor": 2
}
