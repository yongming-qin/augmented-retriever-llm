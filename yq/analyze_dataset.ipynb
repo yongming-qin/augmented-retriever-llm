{
 "cells": [
  {
   "cell_type": "markdown",
   "metadata": {},
   "source": []
  },
  {
   "cell_type": "code",
   "execution_count": 2,
   "metadata": {},
   "outputs": [
    {
     "name": "stdout",
     "output_type": "stream",
     "text": [
      "Found matching query:\n",
      "Input: if a piece of music is perceived to have changed key then we say the piece has\n",
      "Output: [{'answer': 'transposed', 'provenance': [{'wikipedia_id': '54783', 'title': 'Music theory', 'start_paragraph_id': 79, 'start_character': 272, 'end_paragraph_id': 79, 'end_character': 282, 'bleu_score': 1.0, 'section': 'Section::::Fundamentals of music.:Scales and modes.\\n'}]}, {'answer': 'transposition', 'provenance': [{'wikipedia_id': '54783', 'title': 'Music theory', 'start_paragraph_id': 79, 'start_character': 382, 'end_paragraph_id': 79, 'end_character': 395, 'bleu_score': 1.0, 'section': 'Section::::Fundamentals of music.:Scales and modes.\\n'}]}, {'provenance': [{'wikipedia_id': '54783', 'title': 'Music theory', 'start_paragraph_id': 0, 'start_character': 0, 'end_paragraph_id': 0, 'end_character': 0, 'bleu_score': 1.0, 'meta': {'yes_no_answer': 'NONE', 'annotation_id': 17309318645473583612}, 'section': 'Section::::Abstract.'}]}, {'provenance': [{'wikipedia_id': '54783', 'title': 'Music theory', 'start_paragraph_id': 79, 'start_character': 0, 'end_paragraph_id': 79, 'end_character': 1032, 'bleu_score': 0.9879874430315588, 'meta': {'yes_no_answer': 'NONE', 'annotation_id': 17309318645473583612}, 'section': 'Section::::Fundamentals of music.:Scales and modes.\\n'}]}, {'provenance': [{'wikipedia_id': '668181', 'title': 'Transposition (music)', 'section': 'Section::::Abstract.', 'start_paragraph_id': 2, 'end_paragraph_id': 2, 'meta': {'evidence_span': ['In music, transposition refers to the process or operation of moving a collection of notes (pitches or pitch classes) up or down in pitch by a constant interval', 'In music, transposition refers to the process or operation of moving a collection of notes (pitches or pitch classes) up or down in pitch by a constant interval. For example, one might transpose an entire piece of music into another key.', 'transposition refers to the process or operation of moving a collection of notes (pitches or pitch classes) up or down in pitch by a constant interval.']}}]}]\n"
     ]
    }
   ],
   "source": [
    "import json\n",
    "\n",
    "# Read the JSONL file\n",
    "with open('../../meta-kilt/nq-dev-kilt.jsonl', 'r') as f:\n",
    "    for line in f:\n",
    "        data = json.loads(line)\n",
    "        # Search for the specific query\n",
    "        if \"if a piece of music is perceived to have changed key then we say the piece has\" in data['input'].lower():\n",
    "            print(\"Found matching query:\")\n",
    "            print(\"Input:\", data['input'])\n",
    "            print(\"Output:\", data['output'])\n"
   ]
  },
  {
   "cell_type": "code",
   "execution_count": null,
   "metadata": {
    "vscode": {
     "languageId": "xml"
    }
   },
   "outputs": [],
   "source": [
    "Found matching query:\n",
    "Input: if a piece of music is perceived to have changed key then we say the piece has\n",
    "Output: [{'answer': 'transposed', 'provenance': [{'wikipedia_id': '54783', 'title': 'Music theory', 'start_paragraph_id': 79, 'start_character': 272, 'end_paragraph_id': 79, 'end_character': 282, 'bleu_score': 1.0, 'section': 'Section::::Fundamentals of music.:Scales and modes.\\n'}]},\n",
    "\n",
    " {'answer': 'transposition', 'provenance': [{'wikipedia_id': '54783', 'title': 'Music theory', 'start_paragraph_id': 79, 'start_character': 382, 'end_paragraph_id': 79, 'end_character': 395, 'bleu_score': 1.0, 'section': 'Section::::Fundamentals of music.:Scales and modes.\\n'}]}, {'provenance': [{'wikipedia_id': '54783', 'title': 'Music theory', 'start_paragraph_id': 0, 'start_character': 0, 'end_paragraph_id': 0, 'end_character': 0, 'bleu_score': 1.0, 'meta': {'yes_no_answer': 'NONE', 'annotation_id': 17309318645473583612}, 'section': 'Section::::Abstract.'}]}, {'provenance': [{'wikipedia_id': '54783', 'title': 'Music theory', 'start_paragraph_id': 79, 'start_character': 0, 'end_paragraph_id': 79, 'end_character': 1032, 'bleu_score': 0.9879874430315588, 'meta': {'yes_no_answer': 'NONE', 'annotation_id': 17309318645473583612}, 'section': 'Section::::Fundamentals of music.:Scales and modes.\\n'}]}, {'provenance': [{'wikipedia_id': '668181', 'title': 'Transposition (music)', 'section': 'Section::::Abstract.', 'start_paragraph_id': 2, 'end_paragraph_id': 2, 'meta': {'evidence_span': ['In music, transposition refers to the process or operation of moving a collection of notes (pitches or pitch classes) up or down in pitch by a constant interval', 'In music, transposition refers to the process or operation of moving a collection of notes (pitches or pitch classes) up or down in pitch by a constant interval. For example, one might transpose an entire piece of music into another key.', 'transposition refers to the process or operation of moving a collection of notes (pitches or pitch classes) up or down in pitch by a constant interval.']}}]}]"
   ]
  },
  {
   "cell_type": "code",
   "execution_count": 6,
   "metadata": {},
   "outputs": [],
   "source": [
    "import json\n",
    "\n",
    "# Read the JSONL file\n",
    "with open('../../google-nq-ori/v1.0_sample_nq-dev-sample.jsonl', 'r') as f:\n",
    "    for line in f:\n",
    "        data = json.loads(line)\n",
    "        # Search for the specific query\n",
    "        if \"if a piece of music is perceived to have changed key then we say the piece has\" in data.get('question', '').lower():\n",
    "            print(\"Found matching query:\")\n",
    "            print(\"Input:\", data['question'])\n",
    "            print(\"Output:\", data['answer'])\n"
   ]
  },
  {
   "cell_type": "code",
   "execution_count": null,
   "metadata": {},
   "outputs": [],
   "source": []
  }
 ],
 "metadata": {
  "kernelspec": {
   "display_name": "cs231n",
   "language": "python",
   "name": "python3"
  },
  "language_info": {
   "codemirror_mode": {
    "name": "ipython",
    "version": 3
   },
   "file_extension": ".py",
   "mimetype": "text/x-python",
   "name": "python",
   "nbconvert_exporter": "python",
   "pygments_lexer": "ipython3",
   "version": "3.11.7"
  }
 },
 "nbformat": 4,
 "nbformat_minor": 2
}
